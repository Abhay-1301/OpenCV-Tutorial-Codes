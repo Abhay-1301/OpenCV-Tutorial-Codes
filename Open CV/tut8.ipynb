{
 "cells": [
  {
   "cell_type": "code",
   "execution_count": 2,
   "metadata": {},
   "outputs": [],
   "source": [
    "# Handle Mouse Events in OpenCV\n",
    "import numpy as np\n",
    "import cv2"
   ]
  },
  {
   "cell_type": "code",
   "execution_count": 3,
   "metadata": {},
   "outputs": [
    {
     "name": "stdout",
     "output_type": "stream",
     "text": [
      "{'EVENT_FLAG_SHIFTKEY', 'EVENT_MOUSEHWHEEL', 'EVENT_RBUTTONUP', 'EVENT_FLAG_LBUTTON', 'EVENT_LBUTTONDBLCLK', 'EVENT_MBUTTONDOWN', 'EVENT_RBUTTONDBLCLK', 'EVENT_FLAG_MBUTTON', 'EVENT_FLAG_ALTKEY', 'EVENT_MBUTTONDBLCLK', 'EVENT_MOUSEWHEEL', 'EVENT_LBUTTONUP', 'EVENT_MBUTTONUP', 'EVENT_RBUTTONDOWN', 'EVENT_FLAG_RBUTTON', 'EVENT_FLAG_CTRLKEY', 'EVENT_MOUSEMOVE', 'EVENT_LBUTTONDOWN'}\n"
     ]
    }
   ],
   "source": [
    "events = {i for i in dir(cv2) if 'EVENT' in i}\n",
    "print(events)"
   ]
  },
  {
   "cell_type": "code",
   "execution_count": 4,
   "metadata": {},
   "outputs": [],
   "source": [
    "img = np.zeros([512,512,3],np.uint8)\n",
    "# img = cv2.imread('sunflower.jpeg')\n",
    "cv2.imshow('image',img)\n",
    "# window name 'image' should be same everywhere"
   ]
  },
  {
   "cell_type": "code",
   "execution_count": 5,
   "metadata": {},
   "outputs": [
    {
     "ename": "",
     "evalue": "",
     "output_type": "error",
     "traceback": [
      "\u001b[1;31mThe Kernel crashed while executing code in the the current cell or a previous cell. Please review the code in the cell(s) to identify a possible cause of the failure. Click <a href='https://aka.ms/vscodeJupyterKernelCrash'>here</a> for more info. View Jupyter <a href='command:jupyter.viewOutput'>log</a> for further details."
     ]
    }
   ],
   "source": [
    "def click_event(event,x,y,flags,param):\n",
    "    if event == cv2.EVENT_LBUTTONDOWN: #left click prints coordinates of that point\n",
    "        print(x,', ',y)\n",
    "        font = cv2.FONT_HERSHEY_COMPLEX\n",
    "        text = str(x) + ', '+str(y)\n",
    "        cv2.putText(img,text,(x,y),font,0.5,(255,255,0),2)\n",
    "        cv2.imshow('image',img)\n",
    "    if event == cv2.EVENT_RBUTTONDOWN: #right click prints bgr channel of image at that particular point\n",
    "        blue = img[y,x,0]\n",
    "        green = img[y,x,1]\n",
    "        red = img[y,x,2]\n",
    "        font = cv2.FONT_HERSHEY_COMPLEX\n",
    "        text = str(blue) + ', '+str(green) + ', '+str(red)\n",
    "        cv2.putText(img,text,(x,y),font,0.5,(255,0,255),2)\n",
    "        cv2.imshow('image',img)\n"
   ]
  },
  {
   "cell_type": "code",
   "execution_count": 5,
   "metadata": {},
   "outputs": [
    {
     "ename": "",
     "evalue": "",
     "output_type": "error",
     "traceback": [
      "\u001b[1;31mThe Kernel crashed while executing code in the the current cell or a previous cell. Please review the code in the cell(s) to identify a possible cause of the failure. Click <a href='https://aka.ms/vscodeJupyterKernelCrash'>here</a> for more info. View Jupyter <a href='command:jupyter.viewOutput'>log</a> for further details."
     ]
    }
   ],
   "source": [
    "cv2.setMouseCallback('image',click_event)"
   ]
  },
  {
   "cell_type": "code",
   "execution_count": 29,
   "metadata": {},
   "outputs": [
    {
     "name": "stdout",
     "output_type": "stream",
     "text": [
      "201 ,  60\n"
     ]
    }
   ],
   "source": [
    "cv2.waitKey(0)\n",
    "cv2.destroyAllWindows()"
   ]
  }
 ],
 "metadata": {
  "kernelspec": {
   "display_name": "Python 3.10.3 64-bit",
   "language": "python",
   "name": "python3"
  },
  "language_info": {
   "codemirror_mode": {
    "name": "ipython",
    "version": 3
   },
   "file_extension": ".py",
   "mimetype": "text/x-python",
   "name": "python",
   "nbconvert_exporter": "python",
   "pygments_lexer": "ipython3",
   "version": "3.10.3 (tags/v3.10.3:a342a49, Mar 16 2022, 13:07:40) [MSC v.1929 64 bit (AMD64)]"
  },
  "orig_nbformat": 4,
  "vscode": {
   "interpreter": {
    "hash": "af552d5b1e269d5297a9c06a1550f219ea43d9a2a7c7d913c6c4bb6afc99d070"
   }
  }
 },
 "nbformat": 4,
 "nbformat_minor": 2
}
