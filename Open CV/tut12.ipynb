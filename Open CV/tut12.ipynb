{
 "cells": [
  {
   "cell_type": "code",
   "execution_count": null,
   "metadata": {},
   "outputs": [],
   "source": [
    "import numpy as np\n",
    "import cv2 as cv\n",
    "\n",
    "def callbackfun(x):\n",
    "    print(x)\n",
    "\n",
    "\n",
    "img = np.zeros((300,512,3),np.uint8)\n",
    "cv.namedWindow('image')\n",
    "\n",
    "cv.createTrackbar('B','image',0,255,callbackfun)\n",
    "cv.createTrackbar('G','image',0,255,callbackfun)\n",
    "cv.createTrackbar('R','image',0,255,callbackfun)\n",
    "\n",
    "switch = '0 : OFF\\n 1 : ON'\n",
    "cv.createTrackbar('switch','image',0,1,callbackfun)\n",
    "\n",
    "while(1):\n",
    "    cv.imshow('image',img)\n",
    "    k = cv.waitKey(1) & 0xFF\n",
    "    if k==27:\n",
    "        break\n",
    "\n",
    "    b = cv.getTrackbarPos('B','image')\n",
    "    g = cv.getTrackbarPos('G','image')\n",
    "    r = cv.getTrackbarPos('R','image')\n",
    "    s = cv.getTrackbarPos('switch','image')\n",
    "\n",
    "    if s==0:\n",
    "        img[:] = 0\n",
    "    else:\n",
    "        img[:] = [b,g,r]\n",
    "cv.destroyAllWindows()"
   ]
  },
  {
   "cell_type": "code",
   "execution_count": null,
   "metadata": {},
   "outputs": [],
   "source": []
  }
 ],
 "metadata": {
  "kernelspec": {
   "display_name": "Python 3.10.3 64-bit",
   "language": "python",
   "name": "python3"
  },
  "language_info": {
   "codemirror_mode": {
    "name": "ipython",
    "version": 3
   },
   "file_extension": ".py",
   "mimetype": "text/x-python",
   "name": "python",
   "nbconvert_exporter": "python",
   "pygments_lexer": "ipython3",
   "version": "3.10.3 (tags/v3.10.3:a342a49, Mar 16 2022, 13:07:40) [MSC v.1929 64 bit (AMD64)]"
  },
  "orig_nbformat": 4,
  "vscode": {
   "interpreter": {
    "hash": "af552d5b1e269d5297a9c06a1550f219ea43d9a2a7c7d913c6c4bb6afc99d070"
   }
  }
 },
 "nbformat": 4,
 "nbformat_minor": 2
}
