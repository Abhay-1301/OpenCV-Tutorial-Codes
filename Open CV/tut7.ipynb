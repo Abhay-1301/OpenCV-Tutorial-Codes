{
 "cells": [
  {
   "cell_type": "code",
   "execution_count": 3,
   "metadata": {},
   "outputs": [
    {
     "name": "stdout",
     "output_type": "stream",
     "text": [
      "640.0\n",
      "480.0\n",
      "1280.0\n",
      "720.0\n"
     ]
    }
   ],
   "source": [
    "# Combinating of putting text in video\n",
    "import cv2\n",
    "\n",
    "cap = cv2.VideoCapture(0)\n",
    "print(cap.get(cv2.CAP_PROP_FRAME_WIDTH))\n",
    "print(cap.get(cv2.CAP_PROP_FRAME_HEIGHT))\n",
    "\n",
    "cap.set(3, 2000)  # 3 and 4 are associated numbering of width and height\n",
    "cap.set(4, 2000)\n",
    "\n",
    "print(cap.get(3))\n",
    "print(cap.get(4))\n",
    "\n",
    "\n",
    "while (cap.isOpened()):\n",
    "    # ret is boolean variable if frame is present true otherwise false\n",
    "    ret, frame = cap.read()\n",
    "    if ret == True:\n",
    "        font = cv2.FONT_HERSHEY_COMPLEX\n",
    "        text = 'Width: '+ str(cap.get(3)) +' Height: '+ str(cap.get(4))\n",
    "        frame = cv2.putText(img=frame,text=text,org=(100,100),fontFace=font,fontScale=1,color=(0,0,0),thickness=2,lineType=cv2.LINE_AA)\n",
    "        cv2.imshow('frame', frame)\n",
    "        if cv2.waitKey(1) & 0xFF == ord('q'):\n",
    "            break\n",
    "    else:\n",
    "        break\n",
    "cap.release()\n",
    "cv2.destroyAllWindows()\n"
   ]
  },
  {
   "cell_type": "code",
   "execution_count": 4,
   "metadata": {},
   "outputs": [
    {
     "name": "stdout",
     "output_type": "stream",
     "text": [
      "640.0\n",
      "480.0\n"
     ]
    }
   ],
   "source": [
    "# Putting date and time in video\n",
    "import cv2\n",
    "import datetime\n",
    "\n",
    "cap = cv2.VideoCapture(0)\n",
    "print(cap.get(cv2.CAP_PROP_FRAME_WIDTH))\n",
    "print(cap.get(cv2.CAP_PROP_FRAME_HEIGHT))\n",
    "\n",
    "\n",
    "\n",
    "while (cap.isOpened()):\n",
    "    # ret is boolean variable if frame is present true otherwise false\n",
    "    ret, frame = cap.read()\n",
    "    if ret == True:\n",
    "        font = cv2.FONT_HERSHEY_COMPLEX\n",
    "        text = str(datetime.datetime.now())\n",
    "        frame = cv2.putText(img=frame,text=text,org=(100,100),fontFace=font,fontScale=1,color=(0,0,0),thickness=2,lineType=cv2.LINE_AA)\n",
    "        cv2.imshow('frame', frame)\n",
    "        if cv2.waitKey(1) & 0xFF == ord('q'):\n",
    "            break\n",
    "    else:\n",
    "        break\n",
    "cap.release()\n",
    "cv2.destroyAllWindows()"
   ]
  }
 ],
 "metadata": {
  "kernelspec": {
   "display_name": "Python 3.10.3 64-bit",
   "language": "python",
   "name": "python3"
  },
  "language_info": {
   "codemirror_mode": {
    "name": "ipython",
    "version": 3
   },
   "file_extension": ".py",
   "mimetype": "text/x-python",
   "name": "python",
   "nbconvert_exporter": "python",
   "pygments_lexer": "ipython3",
   "version": "3.10.3 (tags/v3.10.3:a342a49, Mar 16 2022, 13:07:40) [MSC v.1929 64 bit (AMD64)]"
  },
  "orig_nbformat": 4,
  "vscode": {
   "interpreter": {
    "hash": "af552d5b1e269d5297a9c06a1550f219ea43d9a2a7c7d913c6c4bb6afc99d070"
   }
  }
 },
 "nbformat": 4,
 "nbformat_minor": 2
}
