{
 "cells": [
  {
   "cell_type": "code",
   "execution_count": 1,
   "metadata": {},
   "outputs": [],
   "source": [
    "# Image Pyramid\n",
    "# laplacian and gaussian pyramid help us in to blend and reconstruct the images.\n",
    "\n",
    "import cv2\n",
    "import numpy as np\n",
    "\n",
    "img = cv2.imread('lena.jpg')\n",
    "lr1 = cv2.pyrDown(img)\n",
    "lr2 = cv2.pyrDown(lr1)\n",
    "hr2 = cv2.pyrUp(lr2)\n",
    "\n",
    "cv2.imshow('Original',img)\n",
    "cv2.imshow('pyr down 1',lr1)\n",
    "cv2.imshow('pyr down 2',lr2)\n",
    "cv2.imshow('pyr up 1',hr2) #pyr down 1 != pyr up 1 because some details is lost\n",
    "\n",
    "cv2.waitKey(0)\n",
    "cv2.destroyAllWindows()"
   ]
  },
  {
   "cell_type": "code",
   "execution_count": 2,
   "metadata": {},
   "outputs": [],
   "source": [
    "import cv2\n",
    "import numpy as np\n",
    "\n",
    "img = cv2.imread('lena.jpg')\n",
    "layer = img.copy()\n",
    "gp = [layer]\n",
    "\n",
    "for i in range(6):\n",
    "    layer = cv2.pyrDown(layer)\n",
    "    gp.append(layer)\n",
    "    cv2.imshow(str(i),layer)\n",
    "\n",
    "cv2.imshow('Original',img)\n",
    "\n",
    "cv2.waitKey(0)\n",
    "cv2.destroyAllWindows()"
   ]
  },
  {
   "cell_type": "code",
   "execution_count": 3,
   "metadata": {},
   "outputs": [],
   "source": [
    "# NO specific function for laplacian pyramid\n",
    "\n",
    "import cv2\n",
    "import numpy as np\n",
    "\n",
    "img = cv2.imread('lena.jpg')\n",
    "layer = img.copy()\n",
    "gp = [layer]\n",
    "\n",
    "for i in range(6):\n",
    "    layer = cv2.pyrDown(layer)\n",
    "    gp.append(layer)\n",
    "\n",
    "layer = gp[5]\n",
    "cv2.imshow('upper level gaussian pyramid',layer)\n",
    "\n",
    "lp = [layer]\n",
    "\n",
    "for i in range(5,0,-1):\n",
    "    gaussian_extended = cv2.pyrUp(gp[i])\n",
    "    laplacian = cv2.subtract(gp[i-1],gaussian_extended)\n",
    "    cv2.imshow(str(i),laplacian)\n",
    "\n",
    "\n",
    "cv2.imshow('Original',img)\n",
    "\n",
    "cv2.waitKey(0)\n",
    "cv2.destroyAllWindows()\n",
    "\n"
   ]
  },
  {
   "cell_type": "code",
   "execution_count": null,
   "metadata": {},
   "outputs": [],
   "source": []
  }
 ],
 "metadata": {
  "kernelspec": {
   "display_name": "Python 3",
   "language": "python",
   "name": "python3"
  },
  "language_info": {
   "codemirror_mode": {
    "name": "ipython",
    "version": 3
   },
   "file_extension": ".py",
   "mimetype": "text/x-python",
   "name": "python",
   "nbconvert_exporter": "python",
   "pygments_lexer": "ipython3",
   "version": "3.10.3"
  },
  "orig_nbformat": 4,
  "vscode": {
   "interpreter": {
    "hash": "af552d5b1e269d5297a9c06a1550f219ea43d9a2a7c7d913c6c4bb6afc99d070"
   }
  }
 },
 "nbformat": 4,
 "nbformat_minor": 2
}
