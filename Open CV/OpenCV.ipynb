{
 "cells": [
  {
   "cell_type": "code",
   "execution_count": 1,
   "metadata": {},
   "outputs": [],
   "source": [
    "#Importing Required Libraries\n",
    "import cv2"
   ]
  },
  {
   "cell_type": "code",
   "execution_count": 5,
   "metadata": {},
   "outputs": [
    {
     "name": "stdout",
     "output_type": "stream",
     "text": [
      "4.6.0\n"
     ]
    }
   ],
   "source": [
    "print(cv2.__version__) #just to check if cv2 library is imported and is working fine. It should not throw any error."
   ]
  },
  {
   "cell_type": "code",
   "execution_count": null,
   "metadata": {},
   "outputs": [],
   "source": [
    "filename = 'messi5.jpg'\n",
    "flag = 1 # flag = 1 for coloured image. flag = 0 for grayscale image\n",
    "img = cv2.imread(filename,flag) #Read Image in color or grayscale mode as per flag.\n",
    "print((img))"
   ]
  },
  {
   "cell_type": "code",
   "execution_count": 22,
   "metadata": {},
   "outputs": [],
   "source": [
    "windowName = 'image'\n",
    "cv2.imshow(windowName,img) #Show Image\n",
    "\n",
    "cv2.waitKey(0) #waiting for user to press any key\n",
    "cv2.destroyAllWindows() #destroy all open windows"
   ]
  },
  {
   "cell_type": "code",
   "execution_count": 23,
   "metadata": {},
   "outputs": [],
   "source": [
    "img = cv2.imread('sunflower.jpeg',0) #Read Image\n",
    "cv2.imshow('image',img) #Show Image\n",
    "k=cv2.waitKey(0) # waiting for user to press any key\n",
    "\n",
    "# press escape key to just show and exit\n",
    "if k == 27:\n",
    "    cv2.destroyAllWindows()\n",
    "# press button S to save.\n",
    "elif k == ord('s'): # The ord() function returns the number representing the unicode code of a specified character.\n",
    "    cv2.imwrite('sunflower_bw.png',img) # saves your image\n",
    "    cv2.destroyAllWindows() #destroy all open windows"
   ]
  },
  {
   "cell_type": "code",
   "execution_count": null,
   "metadata": {},
   "outputs": [],
   "source": []
  }
 ],
 "metadata": {
  "kernelspec": {
   "display_name": "Python 3",
   "language": "python",
   "name": "python3"
  },
  "language_info": {
   "codemirror_mode": {
    "name": "ipython",
    "version": 3
   },
   "file_extension": ".py",
   "mimetype": "text/x-python",
   "name": "python",
   "nbconvert_exporter": "python",
   "pygments_lexer": "ipython3",
   "version": "3.10.3 (tags/v3.10.3:a342a49, Mar 16 2022, 13:07:40) [MSC v.1929 64 bit (AMD64)]"
  },
  "orig_nbformat": 4,
  "vscode": {
   "interpreter": {
    "hash": "af552d5b1e269d5297a9c06a1550f219ea43d9a2a7c7d913c6c4bb6afc99d070"
   }
  }
 },
 "nbformat": 4,
 "nbformat_minor": 2
}
