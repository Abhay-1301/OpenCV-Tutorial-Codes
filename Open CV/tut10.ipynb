{
 "cells": [
  {
   "cell_type": "code",
   "execution_count": 1,
   "metadata": {},
   "outputs": [
    {
     "name": "stdout",
     "output_type": "stream",
     "text": [
      "(342, 548, 3)\n",
      "562248\n",
      "uint8\n"
     ]
    }
   ],
   "source": [
    "# copy paste one part of image from one place to another\n",
    "import numpy as np\n",
    "import cv2\n",
    "\n",
    "img = cv2.imread('messi5.jpg')\n",
    "\n",
    "print(img.shape) #returns a tuple of number of rows, columns,and channels\n",
    "print(img.size) #returns total number of pixel accessed\n",
    "print(img.dtype) #returns image datatype\n",
    "\n",
    "b,g,r=cv2.split(img) #split into bgr channel\n",
    "img = cv2.merge((b,g,r)) #merge bgr channel\n",
    "\n",
    "ball = img[280:340,330:390] \n",
    "img[273:333,100:160] = ball\n",
    "\n",
    "cv2.imshow('image',img)\n",
    "cv2.waitKey(0)\n",
    "cv2.destroyAllWindows()"
   ]
  },
  {
   "cell_type": "code",
   "execution_count": 3,
   "metadata": {},
   "outputs": [],
   "source": [
    "# Add two image\n",
    "import numpy as np\n",
    "import cv2\n",
    "\n",
    "img = cv2.imread('messi5.jpg')\n",
    "img2=cv2.imread('opencv-logo.png')\n",
    "\n",
    "ball = img[280:340,330:390] \n",
    "img[273:333,100:160] = ball\n",
    "\n",
    "img = cv2.resize(img,(512,512))\n",
    "img2 = cv2.resize(img2,(512,512))\n",
    "\n",
    "output_image=cv2.add(img,img2)\n",
    "output_image=cv2.addWeighted(img,0.9,img2,0.1,0) #0.9 and 0.1 are weight of each image\n",
    "\n",
    "cv2.imshow('image',output_image)\n",
    "cv2.waitKey(0)\n",
    "cv2.destroyAllWindows()"
   ]
  },
  {
   "cell_type": "code",
   "execution_count": null,
   "metadata": {},
   "outputs": [],
   "source": []
  }
 ],
 "metadata": {
  "kernelspec": {
   "display_name": "Python 3.10.3 64-bit",
   "language": "python",
   "name": "python3"
  },
  "language_info": {
   "codemirror_mode": {
    "name": "ipython",
    "version": 3
   },
   "file_extension": ".py",
   "mimetype": "text/x-python",
   "name": "python",
   "nbconvert_exporter": "python",
   "pygments_lexer": "ipython3",
   "version": "3.10.3 (tags/v3.10.3:a342a49, Mar 16 2022, 13:07:40) [MSC v.1929 64 bit (AMD64)]"
  },
  "orig_nbformat": 4,
  "vscode": {
   "interpreter": {
    "hash": "af552d5b1e269d5297a9c06a1550f219ea43d9a2a7c7d913c6c4bb6afc99d070"
   }
  }
 },
 "nbformat": 4,
 "nbformat_minor": 2
}
