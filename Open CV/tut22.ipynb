{
 "cells": [
  {
   "cell_type": "code",
   "execution_count": 5,
   "metadata": {},
   "outputs": [
    {
     "name": "stdout",
     "output_type": "stream",
     "text": [
      "(512, 512, 3)\n",
      "(512, 512, 3)\n"
     ]
    }
   ],
   "source": [
    "# image blending\n",
    "\n",
    "import cv2\n",
    "import numpy as np\n",
    "\n",
    "apple = cv2.imread('apple.jpg')\n",
    "orange = cv2.imread('orange.jpg')\n",
    "\n",
    "print(apple.shape)\n",
    "print(orange.shape)\n",
    "# see that shapes are equal\n",
    "\n",
    "# lets see half cut both image and stick them together\n",
    "\n",
    "apple_orange = np.hstack((apple[:,:256],orange[:,256:])) #we have to blend that line joining apple orange also\n",
    "\n",
    "# by pyramid\n",
    "\n",
    "# generate gaussian pyramid for apple\n",
    "apple_copy = apple.copy()\n",
    "gp_apple=[apple_copy]\n",
    "\n",
    "for i in range(6):\n",
    "    apple_copy = cv2.pyrDown(apple_copy)\n",
    "    gp_apple.append(apple_copy)\n",
    "\n",
    "# generate gaussian pyramid for orange\n",
    "orange_copy = orange.copy()\n",
    "gp_orange=[orange_copy]\n",
    "\n",
    "for i in range(6):\n",
    "    orange_copy = cv2.pyrDown(orange_copy)\n",
    "    gp_orange.append(orange_copy)\n",
    "\n",
    "# generate laplacian pyramid for apple\n",
    "apple_copy = gp_apple[5]\n",
    "lp_apple = [apple_copy]\n",
    "\n",
    "for i in range(5,0,-1):\n",
    "    gaussian_extended = cv2.pyrUp(gp_apple[i])\n",
    "    laplacian = cv2.subtract(gp_apple[i-1],gaussian_extended)\n",
    "    lp_apple.append(laplacian)\n",
    "\n",
    "# generate laplacian pyramid for orange\n",
    "orange_copy = gp_orange[5]\n",
    "lp_orange = [orange_copy]\n",
    "\n",
    "for i in range(5,0,-1):\n",
    "    gaussian_extended = cv2.pyrUp(gp_orange[i])\n",
    "    laplacian = cv2.subtract(gp_orange[i-1],gaussian_extended)\n",
    "    lp_orange.append(laplacian)\n",
    "\n",
    "# add left and right half of image of each level\n",
    "apple_orange_pyramid = []\n",
    "n=0\n",
    "for apple_lap,orange_lap in zip(lp_apple,lp_orange):\n",
    "    n+=1\n",
    "    cols , rows, ch= apple_lap.shape\n",
    "    laplacian = np.hstack((apple_lap[:,0:int(cols/2)],orange_lap[:,int(cols/2):]))\n",
    "    apple_orange_pyramid.append(laplacian)\n",
    "\n",
    "# reconstruct\n",
    "apple_orange_reconstruct = apple_orange_pyramid[0]\n",
    "for i in range (1,6):\n",
    "    apple_orange_reconstruct = cv2.pyrUp(apple_orange_reconstruct)\n",
    "    apple_orange_reconstruct = cv2.add(apple_orange_pyramid[i],apple_orange_reconstruct)\n",
    "\n",
    "\n",
    "cv2.imshow('apple',apple)\n",
    "cv2.imshow('orange',orange)\n",
    "cv2.imshow('apple_orange',apple_orange)\n",
    "cv2.imshow('apple_orange_reconstruct',apple_orange_reconstruct)\n",
    "\n",
    "cv2.waitKey(0)\n",
    "cv2.destroyAllWindows()\n"
   ]
  }
 ],
 "metadata": {
  "kernelspec": {
   "display_name": "Python 3",
   "language": "python",
   "name": "python3"
  },
  "language_info": {
   "codemirror_mode": {
    "name": "ipython",
    "version": 3
   },
   "file_extension": ".py",
   "mimetype": "text/x-python",
   "name": "python",
   "nbconvert_exporter": "python",
   "pygments_lexer": "ipython3",
   "version": "3.10.3 (tags/v3.10.3:a342a49, Mar 16 2022, 13:07:40) [MSC v.1929 64 bit (AMD64)]"
  },
  "orig_nbformat": 4,
  "vscode": {
   "interpreter": {
    "hash": "af552d5b1e269d5297a9c06a1550f219ea43d9a2a7c7d913c6c4bb6afc99d070"
   }
  }
 },
 "nbformat": 4,
 "nbformat_minor": 2
}
