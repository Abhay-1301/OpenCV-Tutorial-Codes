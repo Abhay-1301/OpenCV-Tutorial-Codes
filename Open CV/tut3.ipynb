{
 "cells": [
  {
   "cell_type": "code",
   "execution_count": 25,
   "metadata": {},
   "outputs": [
    {
     "name": "stdout",
     "output_type": "stream",
     "text": [
      "None\n"
     ]
    }
   ],
   "source": [
    "import cv2\n",
    "\n",
    "img = cv2.imread('sunflouwer.jpeg',0)\n",
    "\n",
    "print(img) #output none when there is no such path or file"
   ]
  },
  {
   "cell_type": "code",
   "execution_count": 26,
   "metadata": {},
   "outputs": [
    {
     "name": "stdout",
     "output_type": "stream",
     "text": [
      "[[231 240 250 ... 239 246 227]\n",
      " [227 238 246 ... 248 248 231]\n",
      " [216 229 235 ... 247 250 232]\n",
      " ...\n",
      " [  7   7   7 ...  75  75  75]\n",
      " [  7   7   8 ...  81  81  80]\n",
      " [  8   8   8 ...  86  86  85]]\n"
     ]
    }
   ],
   "source": [
    "img = cv2.imread('sunflower.jpeg',0) # 0,1,-1 see one note\n",
    "\n",
    "print(img)"
   ]
  },
  {
   "cell_type": "code",
   "execution_count": 27,
   "metadata": {},
   "outputs": [],
   "source": [
    "cv2.imshow('image',img)\n",
    "cv2.waitKey(0)\n",
    "cv2.destroyAllWindows()"
   ]
  },
  {
   "cell_type": "code",
   "execution_count": 28,
   "metadata": {},
   "outputs": [
    {
     "data": {
      "text/plain": [
       "True"
      ]
     },
     "execution_count": 28,
     "metadata": {},
     "output_type": "execute_result"
    }
   ],
   "source": [
    "cv2.imwrite('sunflower_bw.png',img)"
   ]
  },
  {
   "cell_type": "code",
   "execution_count": 31,
   "metadata": {},
   "outputs": [],
   "source": [
    "import cv2\n",
    "\n",
    "img = cv2.imread('sunflower.jpeg',0)\n",
    "cv2.imshow('image',img)\n",
    "k=cv2.waitKey(0)\n",
    "\n",
    "if k == 27: # press escape key to just show and exit\n",
    "    cv2.destroyAllWindows()\n",
    "elif k == ord('s'): # press button S to save. The ord() function returns the number representing the unicode code of a specified character.\n",
    "    cv2.imwrite('sunflower_bw.png',img)\n",
    "    cv2.destroyAllWindows()"
   ]
  }
 ],
 "metadata": {
  "kernelspec": {
   "display_name": "Python 3.10.3 64-bit",
   "language": "python",
   "name": "python3"
  },
  "language_info": {
   "codemirror_mode": {
    "name": "ipython",
    "version": 3
   },
   "file_extension": ".py",
   "mimetype": "text/x-python",
   "name": "python",
   "nbconvert_exporter": "python",
   "pygments_lexer": "ipython3",
   "version": "3.10.3 (tags/v3.10.3:a342a49, Mar 16 2022, 13:07:40) [MSC v.1929 64 bit (AMD64)]"
  },
  "orig_nbformat": 4,
  "vscode": {
   "interpreter": {
    "hash": "af552d5b1e269d5297a9c06a1550f219ea43d9a2a7c7d913c6c4bb6afc99d070"
   }
  }
 },
 "nbformat": 4,
 "nbformat_minor": 2
}
