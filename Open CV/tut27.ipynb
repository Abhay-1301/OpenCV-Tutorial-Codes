{
 "cells": [
  {
   "cell_type": "code",
   "execution_count": 2,
   "metadata": {},
   "outputs": [
    {
     "name": "stdout",
     "output_type": "stream",
     "text": [
      "[[ 0.02493327  0.01881832  0.01376684 ...  0.10501159  0.09257649\n",
      "   0.07917856]\n",
      " [ 0.01049772  0.00540033  0.00158504 ...  0.09378709  0.08106917\n",
      "   0.0675549 ]\n",
      " [-0.00378703 -0.00763618 -0.01071623 ...  0.0826247   0.07002017\n",
      "   0.05648014]\n",
      " ...\n",
      " [ 0.28336388  0.28692254  0.28500953 ... -0.04397315 -0.04136519\n",
      "  -0.03124696]\n",
      " [ 0.27320713  0.2729679   0.27157992 ... -0.05682089 -0.04935247\n",
      "  -0.04164146]\n",
      " [ 0.25018913  0.25166565  0.24860212 ... -0.06655486 -0.05723738\n",
      "  -0.05190805]]\n",
      "(array([62, 62, 63, 63, 63, 63, 64, 64, 64, 64], dtype=int64), array([205, 206, 204, 205, 206, 207, 204, 205, 206, 207], dtype=int64))\n"
     ]
    }
   ],
   "source": [
    "# template matching\n",
    "\n",
    "import cv2\n",
    "import numpy as np\n",
    "\n",
    "img = cv2.imread('messi5.jpg')\n",
    "grey_img = cv2.cvtColor(img,cv2.COLOR_BGR2GRAY)\n",
    "template = cv2.imread('messi_face.png',0)\n",
    "w,h = template.shape[::-1]\n",
    "\n",
    "res = cv2.matchTemplate(grey_img,template,cv2.TM_CCOEFF_NORMED)\n",
    "print(res)\n",
    "threshold = 0.8\n",
    "loc = np.where(res>=threshold)\n",
    "print(loc)\n",
    "\n",
    "for pt in zip(*loc[::-1]):\n",
    "    cv2.rectangle(img,pt,(pt[0]+w,pt[1]+h),(0,0,255),2)\n",
    "\n",
    "cv2.imshow('img',img)\n",
    "cv2.waitKey(0)\n",
    "cv2.destroyAllWindows()\n"
   ]
  }
 ],
 "metadata": {
  "kernelspec": {
   "display_name": "Python 3",
   "language": "python",
   "name": "python3"
  },
  "language_info": {
   "codemirror_mode": {
    "name": "ipython",
    "version": 3
   },
   "file_extension": ".py",
   "mimetype": "text/x-python",
   "name": "python",
   "nbconvert_exporter": "python",
   "pygments_lexer": "ipython3",
   "version": "3.10.3 (tags/v3.10.3:a342a49, Mar 16 2022, 13:07:40) [MSC v.1929 64 bit (AMD64)]"
  },
  "orig_nbformat": 4,
  "vscode": {
   "interpreter": {
    "hash": "af552d5b1e269d5297a9c06a1550f219ea43d9a2a7c7d913c6c4bb6afc99d070"
   }
  }
 },
 "nbformat": 4,
 "nbformat_minor": 2
}
