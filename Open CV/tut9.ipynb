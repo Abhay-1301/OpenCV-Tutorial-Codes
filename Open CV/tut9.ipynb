{
 "cells": [
  {
   "cell_type": "code",
   "execution_count": 33,
   "metadata": {},
   "outputs": [],
   "source": [
    "import numpy as np\n",
    "import cv2"
   ]
  },
  {
   "cell_type": "code",
   "execution_count": 34,
   "metadata": {},
   "outputs": [],
   "source": [
    "# img = np.zeros([512,512,3],np.uint8)\n",
    "img = cv2.imread('sunflower.jpeg')\n",
    "cv2.imshow('image',img)\n",
    "# window name 'image' should be same everywhere"
   ]
  },
  {
   "cell_type": "code",
   "execution_count": 35,
   "metadata": {},
   "outputs": [],
   "source": [
    "# points= []"
   ]
  },
  {
   "cell_type": "code",
   "execution_count": 36,
   "metadata": {},
   "outputs": [],
   "source": [
    "# # join lines where clicked\n",
    "# def click_event(event,x,y,flags,param):\n",
    "#     if event == cv2.EVENT_LBUTTONDOWN: #left click prints coordinates of that point\n",
    "#         cv2.circle(img,(x,y),3,(0,0,255),-1)\n",
    "#         points.append((x,y))\n",
    "#         if len(points)>=2:\n",
    "#             cv2.line(img,points[-1],points[-2],(255,0,0),5)\n",
    "#         cv2.imshow('image',img)"
   ]
  },
  {
   "cell_type": "code",
   "execution_count": 37,
   "metadata": {},
   "outputs": [],
   "source": [
    "# join lines where clicked\n",
    "def click_event(event,x,y,flags,param):\n",
    "    if event == cv2.EVENT_LBUTTONDOWN: #left click prints coordinates of that point\n",
    "        blue = img[x,y,0]\n",
    "        green = img[x,y,1]\n",
    "        red = img[x,y,2]\n",
    "        cv2.circle(img,(x,y),3,(0,0,255),-1)\n",
    "        myColorImage=np.zeros((512,512,3),np.uint8)\n",
    "        myColorImage[:]=[blue,green,red]\n",
    "        cv2.imshow('color',myColorImage)"
   ]
  },
  {
   "cell_type": "code",
   "execution_count": 38,
   "metadata": {},
   "outputs": [],
   "source": [
    "cv2.setMouseCallback('image',click_event)"
   ]
  },
  {
   "cell_type": "code",
   "execution_count": 39,
   "metadata": {},
   "outputs": [
    {
     "ename": "IndexError",
     "evalue": "index 210 is out of bounds for axis 0 with size 183",
     "output_type": "error",
     "traceback": [
      "\u001b[1;31m---------------------------------------------------------------------------\u001b[0m",
      "\u001b[1;31mIndexError\u001b[0m                                Traceback (most recent call last)",
      "Cell \u001b[1;32mIn [37], line 4\u001b[0m, in \u001b[0;36mclick_event\u001b[1;34m(event, x, y, flags, param)\u001b[0m\n\u001b[0;32m      2\u001b[0m \u001b[39mdef\u001b[39;00m \u001b[39mclick_event\u001b[39m(event,x,y,flags,param):\n\u001b[0;32m      3\u001b[0m     \u001b[39mif\u001b[39;00m event \u001b[39m==\u001b[39m cv2\u001b[39m.\u001b[39mEVENT_LBUTTONDOWN: \u001b[39m#left click prints coordinates of that point\u001b[39;00m\n\u001b[1;32m----> 4\u001b[0m         blue \u001b[39m=\u001b[39m img[x,y,\u001b[39m0\u001b[39;49m]\n\u001b[0;32m      5\u001b[0m         green \u001b[39m=\u001b[39m img[x,y,\u001b[39m1\u001b[39m]\n\u001b[0;32m      6\u001b[0m         red \u001b[39m=\u001b[39m img[x,y,\u001b[39m2\u001b[39m]\n",
      "\u001b[1;31mIndexError\u001b[0m: index 210 is out of bounds for axis 0 with size 183"
     ]
    },
    {
     "ename": "IndexError",
     "evalue": "index 242 is out of bounds for axis 0 with size 183",
     "output_type": "error",
     "traceback": [
      "\u001b[1;31m---------------------------------------------------------------------------\u001b[0m",
      "\u001b[1;31mIndexError\u001b[0m                                Traceback (most recent call last)",
      "Cell \u001b[1;32mIn [37], line 4\u001b[0m, in \u001b[0;36mclick_event\u001b[1;34m(event, x, y, flags, param)\u001b[0m\n\u001b[0;32m      2\u001b[0m \u001b[39mdef\u001b[39;00m \u001b[39mclick_event\u001b[39m(event,x,y,flags,param):\n\u001b[0;32m      3\u001b[0m     \u001b[39mif\u001b[39;00m event \u001b[39m==\u001b[39m cv2\u001b[39m.\u001b[39mEVENT_LBUTTONDOWN: \u001b[39m#left click prints coordinates of that point\u001b[39;00m\n\u001b[1;32m----> 4\u001b[0m         blue \u001b[39m=\u001b[39m img[x,y,\u001b[39m0\u001b[39;49m]\n\u001b[0;32m      5\u001b[0m         green \u001b[39m=\u001b[39m img[x,y,\u001b[39m1\u001b[39m]\n\u001b[0;32m      6\u001b[0m         red \u001b[39m=\u001b[39m img[x,y,\u001b[39m2\u001b[39m]\n",
      "\u001b[1;31mIndexError\u001b[0m: index 242 is out of bounds for axis 0 with size 183"
     ]
    },
    {
     "ename": "IndexError",
     "evalue": "index 208 is out of bounds for axis 0 with size 183",
     "output_type": "error",
     "traceback": [
      "\u001b[1;31m---------------------------------------------------------------------------\u001b[0m",
      "\u001b[1;31mIndexError\u001b[0m                                Traceback (most recent call last)",
      "Cell \u001b[1;32mIn [37], line 4\u001b[0m, in \u001b[0;36mclick_event\u001b[1;34m(event, x, y, flags, param)\u001b[0m\n\u001b[0;32m      2\u001b[0m \u001b[39mdef\u001b[39;00m \u001b[39mclick_event\u001b[39m(event,x,y,flags,param):\n\u001b[0;32m      3\u001b[0m     \u001b[39mif\u001b[39;00m event \u001b[39m==\u001b[39m cv2\u001b[39m.\u001b[39mEVENT_LBUTTONDOWN: \u001b[39m#left click prints coordinates of that point\u001b[39;00m\n\u001b[1;32m----> 4\u001b[0m         blue \u001b[39m=\u001b[39m img[x,y,\u001b[39m0\u001b[39;49m]\n\u001b[0;32m      5\u001b[0m         green \u001b[39m=\u001b[39m img[x,y,\u001b[39m1\u001b[39m]\n\u001b[0;32m      6\u001b[0m         red \u001b[39m=\u001b[39m img[x,y,\u001b[39m2\u001b[39m]\n",
      "\u001b[1;31mIndexError\u001b[0m: index 208 is out of bounds for axis 0 with size 183"
     ]
    },
    {
     "ename": "IndexError",
     "evalue": "index 208 is out of bounds for axis 0 with size 183",
     "output_type": "error",
     "traceback": [
      "\u001b[1;31m---------------------------------------------------------------------------\u001b[0m",
      "\u001b[1;31mIndexError\u001b[0m                                Traceback (most recent call last)",
      "Cell \u001b[1;32mIn [37], line 4\u001b[0m, in \u001b[0;36mclick_event\u001b[1;34m(event, x, y, flags, param)\u001b[0m\n\u001b[0;32m      2\u001b[0m \u001b[39mdef\u001b[39;00m \u001b[39mclick_event\u001b[39m(event,x,y,flags,param):\n\u001b[0;32m      3\u001b[0m     \u001b[39mif\u001b[39;00m event \u001b[39m==\u001b[39m cv2\u001b[39m.\u001b[39mEVENT_LBUTTONDOWN: \u001b[39m#left click prints coordinates of that point\u001b[39;00m\n\u001b[1;32m----> 4\u001b[0m         blue \u001b[39m=\u001b[39m img[x,y,\u001b[39m0\u001b[39;49m]\n\u001b[0;32m      5\u001b[0m         green \u001b[39m=\u001b[39m img[x,y,\u001b[39m1\u001b[39m]\n\u001b[0;32m      6\u001b[0m         red \u001b[39m=\u001b[39m img[x,y,\u001b[39m2\u001b[39m]\n",
      "\u001b[1;31mIndexError\u001b[0m: index 208 is out of bounds for axis 0 with size 183"
     ]
    },
    {
     "ename": "IndexError",
     "evalue": "index 199 is out of bounds for axis 0 with size 183",
     "output_type": "error",
     "traceback": [
      "\u001b[1;31m---------------------------------------------------------------------------\u001b[0m",
      "\u001b[1;31mIndexError\u001b[0m                                Traceback (most recent call last)",
      "Cell \u001b[1;32mIn [37], line 4\u001b[0m, in \u001b[0;36mclick_event\u001b[1;34m(event, x, y, flags, param)\u001b[0m\n\u001b[0;32m      2\u001b[0m \u001b[39mdef\u001b[39;00m \u001b[39mclick_event\u001b[39m(event,x,y,flags,param):\n\u001b[0;32m      3\u001b[0m     \u001b[39mif\u001b[39;00m event \u001b[39m==\u001b[39m cv2\u001b[39m.\u001b[39mEVENT_LBUTTONDOWN: \u001b[39m#left click prints coordinates of that point\u001b[39;00m\n\u001b[1;32m----> 4\u001b[0m         blue \u001b[39m=\u001b[39m img[x,y,\u001b[39m0\u001b[39;49m]\n\u001b[0;32m      5\u001b[0m         green \u001b[39m=\u001b[39m img[x,y,\u001b[39m1\u001b[39m]\n\u001b[0;32m      6\u001b[0m         red \u001b[39m=\u001b[39m img[x,y,\u001b[39m2\u001b[39m]\n",
      "\u001b[1;31mIndexError\u001b[0m: index 199 is out of bounds for axis 0 with size 183"
     ]
    }
   ],
   "source": [
    "cv2.waitKey(0)\n",
    "cv2.destroyAllWindows()"
   ]
  }
 ],
 "metadata": {
  "kernelspec": {
   "display_name": "Python 3.10.3 64-bit",
   "language": "python",
   "name": "python3"
  },
  "language_info": {
   "codemirror_mode": {
    "name": "ipython",
    "version": 3
   },
   "file_extension": ".py",
   "mimetype": "text/x-python",
   "name": "python",
   "nbconvert_exporter": "python",
   "pygments_lexer": "ipython3",
   "version": "3.10.3"
  },
  "orig_nbformat": 4,
  "vscode": {
   "interpreter": {
    "hash": "af552d5b1e269d5297a9c06a1550f219ea43d9a2a7c7d913c6c4bb6afc99d070"
   }
  }
 },
 "nbformat": 4,
 "nbformat_minor": 2
}
