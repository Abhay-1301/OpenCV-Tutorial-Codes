{
 "cells": [
  {
   "cell_type": "code",
   "execution_count": 1,
   "metadata": {},
   "outputs": [],
   "source": [
    "# OBject Detection and object tracking using HSV color space\n",
    "\n",
    "import cv2\n",
    "import numpy as np"
   ]
  },
  {
   "cell_type": "code",
   "execution_count": 2,
   "metadata": {},
   "outputs": [],
   "source": [
    "def nothing(x):\n",
    "    pass"
   ]
  },
  {
   "cell_type": "code",
   "execution_count": 3,
   "metadata": {},
   "outputs": [],
   "source": [
    "cv2.namedWindow(\"Tracking\")\n",
    "cv2.createTrackbar(\"LH\",\"Tracking\",0,255,nothing)\n",
    "cv2.createTrackbar(\"LS\",\"Tracking\",0,255,nothing)\n",
    "cv2.createTrackbar(\"LV\",\"Tracking\",0,255,nothing)\n",
    "cv2.createTrackbar(\"UH\",\"Tracking\",255,255,nothing)\n",
    "cv2.createTrackbar(\"US\",\"Tracking\",255,255,nothing)\n",
    "cv2.createTrackbar(\"UV\",\"Tracking\",255,255,nothing)"
   ]
  },
  {
   "cell_type": "code",
   "execution_count": 4,
   "metadata": {},
   "outputs": [
    {
     "ename": "error",
     "evalue": "OpenCV(4.6.0) D:\\a\\opencv-python\\opencv-python\\opencv\\modules\\highgui\\src\\window_w32.cpp:2581: error: (-27:Null pointer) NULL window: 'Tracking' in function 'cvGetTrackbarPos'\n",
     "output_type": "error",
     "traceback": [
      "\u001b[1;31m---------------------------------------------------------------------------\u001b[0m",
      "\u001b[1;31merror\u001b[0m                                     Traceback (most recent call last)",
      "Cell \u001b[1;32mIn [4], line 6\u001b[0m\n\u001b[0;32m      2\u001b[0m frame \u001b[39m=\u001b[39m cv2\u001b[39m.\u001b[39mimread(\u001b[39m'\u001b[39m\u001b[39msmarties.png\u001b[39m\u001b[39m'\u001b[39m)\n\u001b[0;32m      4\u001b[0m hsv \u001b[39m=\u001b[39m cv2\u001b[39m.\u001b[39mcvtColor(frame,cv2\u001b[39m.\u001b[39mCOLOR_BGR2HSV)\n\u001b[1;32m----> 6\u001b[0m l_h \u001b[39m=\u001b[39m cv2\u001b[39m.\u001b[39;49mgetTrackbarPos(\u001b[39m\"\u001b[39;49m\u001b[39mLH\u001b[39;49m\u001b[39m\"\u001b[39;49m,\u001b[39m\"\u001b[39;49m\u001b[39mTracking\u001b[39;49m\u001b[39m\"\u001b[39;49m)\n\u001b[0;32m      7\u001b[0m l_s \u001b[39m=\u001b[39m cv2\u001b[39m.\u001b[39mgetTrackbarPos(\u001b[39m\"\u001b[39m\u001b[39mLS\u001b[39m\u001b[39m\"\u001b[39m,\u001b[39m\"\u001b[39m\u001b[39mTracking\u001b[39m\u001b[39m\"\u001b[39m)\n\u001b[0;32m      8\u001b[0m l_v \u001b[39m=\u001b[39m cv2\u001b[39m.\u001b[39mgetTrackbarPos(\u001b[39m\"\u001b[39m\u001b[39mLV\u001b[39m\u001b[39m\"\u001b[39m,\u001b[39m\"\u001b[39m\u001b[39mTracking\u001b[39m\u001b[39m\"\u001b[39m)\n",
      "\u001b[1;31merror\u001b[0m: OpenCV(4.6.0) D:\\a\\opencv-python\\opencv-python\\opencv\\modules\\highgui\\src\\window_w32.cpp:2581: error: (-27:Null pointer) NULL window: 'Tracking' in function 'cvGetTrackbarPos'\n"
     ]
    }
   ],
   "source": [
    "while True:\n",
    "    frame = cv2.imread('smarties.png')\n",
    "\n",
    "    hsv = cv2.cvtColor(frame,cv2.COLOR_BGR2HSV)\n",
    "\n",
    "    l_h = cv2.getTrackbarPos(\"LH\",\"Tracking\")\n",
    "    l_s = cv2.getTrackbarPos(\"LS\",\"Tracking\")\n",
    "    l_v = cv2.getTrackbarPos(\"LV\",\"Tracking\")\n",
    "\n",
    "    u_h = cv2.getTrackbarPos(\"UH\",\"Tracking\")\n",
    "    u_s = cv2.getTrackbarPos(\"US\",\"Tracking\")\n",
    "    u_v = cv2.getTrackbarPos(\"UV\",\"Tracking\")\n",
    "\n",
    "    l_b = np.array([l_h,l_s,l_v])\n",
    "    u_b = np.array([u_h,u_s,u_v])\n",
    "\n",
    "    mask = cv2.inRange(hsv,l_b,u_b)\n",
    "    res = cv2.bitwise_and(frame,frame,mask=mask)\n",
    "\n",
    "    cv2.imshow(\"frame\",frame)\n",
    "    cv2.imshow(\"mask\",mask)\n",
    "    cv2.imshow(\"res\",res)\n",
    "\n",
    "    key = cv2.waitKey(1)\n",
    "    if key == 27:\n",
    "        break\n",
    "\n",
    "cv2.destroyAllWindows()"
   ]
  },
  {
   "cell_type": "code",
   "execution_count": 5,
   "metadata": {},
   "outputs": [],
   "source": [
    "# Using your camera for detection\n",
    "import cv2\n",
    "import numpy as np\n",
    "\n",
    "def nothing(x):\n",
    "    pass\n",
    "\n",
    "cap = cv2.VideoCapture(0)\n",
    "\n",
    "cv2.namedWindow(\"Tracking\")\n",
    "cv2.createTrackbar(\"LH\",\"Tracking\",0,255,nothing)\n",
    "cv2.createTrackbar(\"LS\",\"Tracking\",0,255,nothing)\n",
    "cv2.createTrackbar(\"LV\",\"Tracking\",0,255,nothing)\n",
    "cv2.createTrackbar(\"UH\",\"Tracking\",255,255,nothing)\n",
    "cv2.createTrackbar(\"US\",\"Tracking\",255,255,nothing)\n",
    "cv2.createTrackbar(\"UV\",\"Tracking\",255,255,nothing)\n",
    "\n",
    "while True:\n",
    "    # frame = cv2.imread('smarties.png')\n",
    "    _,frame = cap.read()\n",
    "\n",
    "\n",
    "    hsv = cv2.cvtColor(frame,cv2.COLOR_BGR2HSV)\n",
    "\n",
    "    l_h = cv2.getTrackbarPos(\"LH\",\"Tracking\") #82\n",
    "    l_s = cv2.getTrackbarPos(\"LS\",\"Tracking\") #51\n",
    "    l_v = cv2.getTrackbarPos(\"LV\",\"Tracking\") #51\n",
    "\n",
    "    u_h = cv2.getTrackbarPos(\"UH\",\"Tracking\") #133\n",
    "    u_s = cv2.getTrackbarPos(\"US\",\"Tracking\") #255\n",
    "    u_v = cv2.getTrackbarPos(\"UV\",\"Tracking\") #255\n",
    "\n",
    "    l_b = np.array([l_h,l_s,l_v])\n",
    "    u_b = np.array([u_h,u_s,u_v])\n",
    "\n",
    "    mask = cv2.inRange(hsv,l_b,u_b)\n",
    "    res = cv2.bitwise_and(frame,frame,mask=mask)\n",
    "\n",
    "    cv2.imshow(\"frame\",frame)\n",
    "    cv2.imshow(\"mask\",mask)\n",
    "    cv2.imshow(\"res\",res)\n",
    "\n",
    "    key = cv2.waitKey(1)\n",
    "    if key == 27:\n",
    "        break\n",
    "\n",
    "cap.release()\n",
    "cv2.destroyAllWindows()"
   ]
  },
  {
   "cell_type": "code",
   "execution_count": null,
   "metadata": {},
   "outputs": [],
   "source": []
  }
 ],
 "metadata": {
  "kernelspec": {
   "display_name": "Python 3",
   "language": "python",
   "name": "python3"
  },
  "language_info": {
   "codemirror_mode": {
    "name": "ipython",
    "version": 3
   },
   "file_extension": ".py",
   "mimetype": "text/x-python",
   "name": "python",
   "nbconvert_exporter": "python",
   "pygments_lexer": "ipython3",
   "version": "3.10.3 (tags/v3.10.3:a342a49, Mar 16 2022, 13:07:40) [MSC v.1929 64 bit (AMD64)]"
  },
  "orig_nbformat": 4,
  "vscode": {
   "interpreter": {
    "hash": "af552d5b1e269d5297a9c06a1550f219ea43d9a2a7c7d913c6c4bb6afc99d070"
   }
  }
 },
 "nbformat": 4,
 "nbformat_minor": 2
}
